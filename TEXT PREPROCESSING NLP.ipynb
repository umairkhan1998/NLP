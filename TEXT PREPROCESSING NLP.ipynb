{
 "cells": [
  {
   "cell_type": "code",
   "execution_count": 1,
   "id": "9a4a2d26",
   "metadata": {},
   "outputs": [],
   "source": [
    "import pandas as pd"
   ]
  },
  {
   "cell_type": "code",
   "execution_count": 2,
   "id": "e2b4bfdf",
   "metadata": {},
   "outputs": [],
   "source": [
    "data=pd.read_csv(r\"C:\\Users\\Dell\\data.csv\")"
   ]
  },
  {
   "cell_type": "code",
   "execution_count": 3,
   "id": "ffa54743",
   "metadata": {},
   "outputs": [
    {
     "data": {
      "text/html": [
       "<div>\n",
       "<style scoped>\n",
       "    .dataframe tbody tr th:only-of-type {\n",
       "        vertical-align: middle;\n",
       "    }\n",
       "\n",
       "    .dataframe tbody tr th {\n",
       "        vertical-align: top;\n",
       "    }\n",
       "\n",
       "    .dataframe thead th {\n",
       "        text-align: right;\n",
       "    }\n",
       "</style>\n",
       "<table border=\"1\" class=\"dataframe\">\n",
       "  <thead>\n",
       "    <tr style=\"text-align: right;\">\n",
       "      <th></th>\n",
       "      <th>name</th>\n",
       "      <th>description</th>\n",
       "      <th>G_id</th>\n",
       "      <th>Genre</th>\n",
       "    </tr>\n",
       "  </thead>\n",
       "  <tbody>\n",
       "    <tr>\n",
       "      <th>0</th>\n",
       "      <td>The Shawshank Redemption</td>\n",
       "      <td>Framed in the 1940s for the double murder of h...</td>\n",
       "      <td>[18, 80]</td>\n",
       "      <td>['Drama', 'Crime']</td>\n",
       "    </tr>\n",
       "    <tr>\n",
       "      <th>1</th>\n",
       "      <td>The Godfather</td>\n",
       "      <td>Spanning the years 1945 to 1955, a chronicle o...</td>\n",
       "      <td>[18, 80]</td>\n",
       "      <td>['Drama', 'Crime']</td>\n",
       "    </tr>\n",
       "    <tr>\n",
       "      <th>2</th>\n",
       "      <td>The Godfather Part II</td>\n",
       "      <td>In the continuing saga of the Corleone crime f...</td>\n",
       "      <td>[18, 80]</td>\n",
       "      <td>['Drama', 'Crime']</td>\n",
       "    </tr>\n",
       "    <tr>\n",
       "      <th>3</th>\n",
       "      <td>Schindler's List</td>\n",
       "      <td>The true story of how businessman Oskar Schind...</td>\n",
       "      <td>[18, 36, 10752]</td>\n",
       "      <td>['Drama', 'History', 'War']</td>\n",
       "    </tr>\n",
       "    <tr>\n",
       "      <th>4</th>\n",
       "      <td>千と千尋の神隠し</td>\n",
       "      <td>A young girl, Chihiro, becomes trapped in a st...</td>\n",
       "      <td>[16, 10751, 14]</td>\n",
       "      <td>['Animation', 'Family', 'Fantasy']</td>\n",
       "    </tr>\n",
       "    <tr>\n",
       "      <th>...</th>\n",
       "      <td>...</td>\n",
       "      <td>...</td>\n",
       "      <td>...</td>\n",
       "      <td>...</td>\n",
       "    </tr>\n",
       "    <tr>\n",
       "      <th>9195</th>\n",
       "      <td>The Human Centipede 3 (Final Sequence)</td>\n",
       "      <td>Taking inspiration from The Human Centipede fi...</td>\n",
       "      <td>[27, 35]</td>\n",
       "      <td>['Horror', 'Comedy']</td>\n",
       "    </tr>\n",
       "    <tr>\n",
       "      <th>9196</th>\n",
       "      <td>The Open House</td>\n",
       "      <td>A teenager and his mother find themselves besi...</td>\n",
       "      <td>[27, 53]</td>\n",
       "      <td>['Horror', 'Thriller']</td>\n",
       "    </tr>\n",
       "    <tr>\n",
       "      <th>9197</th>\n",
       "      <td>FearDotCom</td>\n",
       "      <td>When four bodies are discovered among the indu...</td>\n",
       "      <td>[27, 53, 80]</td>\n",
       "      <td>['Horror', 'Thriller', 'Crime']</td>\n",
       "    </tr>\n",
       "    <tr>\n",
       "      <th>9198</th>\n",
       "      <td>Les Dalton</td>\n",
       "      <td>Joe and Averell are the eldest and youngest of...</td>\n",
       "      <td>[35, 37]</td>\n",
       "      <td>['Comedy', 'Western']</td>\n",
       "    </tr>\n",
       "    <tr>\n",
       "      <th>9199</th>\n",
       "      <td>The Star Wars Holiday Special</td>\n",
       "      <td>Luke Skywalker and Han Solo battle evil Imperi...</td>\n",
       "      <td>[14, 878, 10751, 10770]</td>\n",
       "      <td>['Fantasy', 'Science Fiction', 'Family', 'TV M...</td>\n",
       "    </tr>\n",
       "  </tbody>\n",
       "</table>\n",
       "<p>9200 rows × 4 columns</p>\n",
       "</div>"
      ],
      "text/plain": [
       "                                        name  \\\n",
       "0                   The Shawshank Redemption   \n",
       "1                              The Godfather   \n",
       "2                      The Godfather Part II   \n",
       "3                           Schindler's List   \n",
       "4                                   千と千尋の神隠し   \n",
       "...                                      ...   \n",
       "9195  The Human Centipede 3 (Final Sequence)   \n",
       "9196                          The Open House   \n",
       "9197                              FearDotCom   \n",
       "9198                              Les Dalton   \n",
       "9199           The Star Wars Holiday Special   \n",
       "\n",
       "                                            description  \\\n",
       "0     Framed in the 1940s for the double murder of h...   \n",
       "1     Spanning the years 1945 to 1955, a chronicle o...   \n",
       "2     In the continuing saga of the Corleone crime f...   \n",
       "3     The true story of how businessman Oskar Schind...   \n",
       "4     A young girl, Chihiro, becomes trapped in a st...   \n",
       "...                                                 ...   \n",
       "9195  Taking inspiration from The Human Centipede fi...   \n",
       "9196  A teenager and his mother find themselves besi...   \n",
       "9197  When four bodies are discovered among the indu...   \n",
       "9198  Joe and Averell are the eldest and youngest of...   \n",
       "9199  Luke Skywalker and Han Solo battle evil Imperi...   \n",
       "\n",
       "                         G_id  \\\n",
       "0                    [18, 80]   \n",
       "1                    [18, 80]   \n",
       "2                    [18, 80]   \n",
       "3             [18, 36, 10752]   \n",
       "4             [16, 10751, 14]   \n",
       "...                       ...   \n",
       "9195                 [27, 35]   \n",
       "9196                 [27, 53]   \n",
       "9197             [27, 53, 80]   \n",
       "9198                 [35, 37]   \n",
       "9199  [14, 878, 10751, 10770]   \n",
       "\n",
       "                                                  Genre  \n",
       "0                                    ['Drama', 'Crime']  \n",
       "1                                    ['Drama', 'Crime']  \n",
       "2                                    ['Drama', 'Crime']  \n",
       "3                           ['Drama', 'History', 'War']  \n",
       "4                    ['Animation', 'Family', 'Fantasy']  \n",
       "...                                                 ...  \n",
       "9195                               ['Horror', 'Comedy']  \n",
       "9196                             ['Horror', 'Thriller']  \n",
       "9197                    ['Horror', 'Thriller', 'Crime']  \n",
       "9198                              ['Comedy', 'Western']  \n",
       "9199  ['Fantasy', 'Science Fiction', 'Family', 'TV M...  \n",
       "\n",
       "[9200 rows x 4 columns]"
      ]
     },
     "execution_count": 3,
     "metadata": {},
     "output_type": "execute_result"
    }
   ],
   "source": [
    "data"
   ]
  },
  {
   "cell_type": "markdown",
   "id": "2598dbdb",
   "metadata": {},
   "source": [
    "# Text Preprocessing\n"
   ]
  },
  {
   "cell_type": "raw",
   "id": "39cee95c",
   "metadata": {},
   "source": [
    "Lower casing\n",
    "removing html tags\n",
    "removing url\n",
    "removing punctuation\n",
    "chat word treatment\n",
    "correction spells \n",
    "removing stops words\n",
    "handling emoji\n",
    "Tokenization\n",
    "stemming"
   ]
  },
  {
   "cell_type": "code",
   "execution_count": 4,
   "id": "055ff709",
   "metadata": {},
   "outputs": [],
   "source": [
    "#1 Lower casing\n",
    "data['description']=data['description'].str.lower()"
   ]
  },
  {
   "cell_type": "code",
   "execution_count": 5,
   "id": "4a802f13",
   "metadata": {},
   "outputs": [
    {
     "data": {
      "text/plain": [
       "0       framed in the 1940s for the double murder of h...\n",
       "1       spanning the years 1945 to 1955, a chronicle o...\n",
       "2       in the continuing saga of the corleone crime f...\n",
       "3       the true story of how businessman oskar schind...\n",
       "4       a young girl, chihiro, becomes trapped in a st...\n",
       "                              ...                        \n",
       "9195    taking inspiration from the human centipede fi...\n",
       "9196    a teenager and his mother find themselves besi...\n",
       "9197    when four bodies are discovered among the indu...\n",
       "9198    joe and averell are the eldest and youngest of...\n",
       "9199    luke skywalker and han solo battle evil imperi...\n",
       "Name: description, Length: 9200, dtype: object"
      ]
     },
     "execution_count": 5,
     "metadata": {},
     "output_type": "execute_result"
    }
   ],
   "source": [
    "data['description']"
   ]
  },
  {
   "cell_type": "code",
   "execution_count": 6,
   "id": "9372fd6b",
   "metadata": {},
   "outputs": [
    {
     "data": {
      "text/plain": [
       "0       framed in the 1940s for the double murder of h...\n",
       "1       spanning the years 1945 to 1955, a chronicle o...\n",
       "2       in the continuing saga of the corleone crime f...\n",
       "3       the true story of how businessman oskar schind...\n",
       "4       a young girl, chihiro, becomes trapped in a st...\n",
       "                              ...                        \n",
       "9195    taking inspiration from the human centipede fi...\n",
       "9196    a teenager and his mother find themselves besi...\n",
       "9197    when four bodies are discovered among the indu...\n",
       "9198    joe and averell are the eldest and youngest of...\n",
       "9199    luke skywalker and han solo battle evil imperi...\n",
       "Name: description, Length: 9200, dtype: object"
      ]
     },
     "execution_count": 6,
     "metadata": {},
     "output_type": "execute_result"
    }
   ],
   "source": [
    "#2\n",
    "data['description']"
   ]
  },
  {
   "cell_type": "code",
   "execution_count": 7,
   "id": "93014ba7",
   "metadata": {},
   "outputs": [],
   "source": [
    "#removing the html tag from the text data.\n",
    "# re is used for regular expressions.\n",
    "import re\n",
    "def scripthtml(data):\n",
    "    p=re.compile(r'<[^>]+>') # compile the substrings \n",
    "    return p.sub('',data) #Replace the subString with \" \"."
   ]
  },
  {
   "cell_type": "code",
   "execution_count": 8,
   "id": "e6b98ced",
   "metadata": {},
   "outputs": [
    {
     "data": {
      "text/plain": [
       "0       framed in the 1940s for the double murder of h...\n",
       "1       spanning the years 1945 to 1955, a chronicle o...\n",
       "2       in the continuing saga of the corleone crime f...\n",
       "3       the true story of how businessman oskar schind...\n",
       "4       a young girl, chihiro, becomes trapped in a st...\n",
       "                              ...                        \n",
       "9195    taking inspiration from the human centipede fi...\n",
       "9196    a teenager and his mother find themselves besi...\n",
       "9197    when four bodies are discovered among the indu...\n",
       "9198    joe and averell are the eldest and youngest of...\n",
       "9199    luke skywalker and han solo battle evil imperi...\n",
       "Name: description, Length: 9200, dtype: object"
      ]
     },
     "execution_count": 8,
     "metadata": {},
     "output_type": "execute_result"
    }
   ],
   "source": [
    "data['description']"
   ]
  },
  {
   "cell_type": "code",
   "execution_count": 9,
   "id": "a0ffe884",
   "metadata": {},
   "outputs": [
    {
     "data": {
      "text/plain": [
       "0       framed in the 1940s for the double murder of h...\n",
       "1       spanning the years 1945 to 1955, a chronicle o...\n",
       "2       in the continuing saga of the corleone crime f...\n",
       "3       the true story of how businessman oskar schind...\n",
       "4       a young girl, chihiro, becomes trapped in a st...\n",
       "                              ...                        \n",
       "9195    taking inspiration from the human centipede fi...\n",
       "9196    a teenager and his mother find themselves besi...\n",
       "9197    when four bodies are discovered among the indu...\n",
       "9198    joe and averell are the eldest and youngest of...\n",
       "9199    luke skywalker and han solo battle evil imperi...\n",
       "Name: description, Length: 9200, dtype: object"
      ]
     },
     "execution_count": 9,
     "metadata": {},
     "output_type": "execute_result"
    }
   ],
   "source": [
    "data['description']"
   ]
  },
  {
   "cell_type": "code",
   "execution_count": 10,
   "id": "fe99d653",
   "metadata": {},
   "outputs": [],
   "source": [
    "data['description'] = data['description'].astype(str)"
   ]
  },
  {
   "cell_type": "code",
   "execution_count": 11,
   "id": "82ef72cc",
   "metadata": {},
   "outputs": [
    {
     "data": {
      "text/html": [
       "<div>\n",
       "<style scoped>\n",
       "    .dataframe tbody tr th:only-of-type {\n",
       "        vertical-align: middle;\n",
       "    }\n",
       "\n",
       "    .dataframe tbody tr th {\n",
       "        vertical-align: top;\n",
       "    }\n",
       "\n",
       "    .dataframe thead th {\n",
       "        text-align: right;\n",
       "    }\n",
       "</style>\n",
       "<table border=\"1\" class=\"dataframe\">\n",
       "  <thead>\n",
       "    <tr style=\"text-align: right;\">\n",
       "      <th></th>\n",
       "      <th>name</th>\n",
       "      <th>description</th>\n",
       "      <th>G_id</th>\n",
       "      <th>Genre</th>\n",
       "    </tr>\n",
       "  </thead>\n",
       "  <tbody>\n",
       "    <tr>\n",
       "      <th>0</th>\n",
       "      <td>The Shawshank Redemption</td>\n",
       "      <td>framed in the 1940s for the double murder of h...</td>\n",
       "      <td>[18, 80]</td>\n",
       "      <td>['Drama', 'Crime']</td>\n",
       "    </tr>\n",
       "    <tr>\n",
       "      <th>1</th>\n",
       "      <td>The Godfather</td>\n",
       "      <td>spanning the years 1945 to 1955, a chronicle o...</td>\n",
       "      <td>[18, 80]</td>\n",
       "      <td>['Drama', 'Crime']</td>\n",
       "    </tr>\n",
       "    <tr>\n",
       "      <th>2</th>\n",
       "      <td>The Godfather Part II</td>\n",
       "      <td>in the continuing saga of the corleone crime f...</td>\n",
       "      <td>[18, 80]</td>\n",
       "      <td>['Drama', 'Crime']</td>\n",
       "    </tr>\n",
       "    <tr>\n",
       "      <th>3</th>\n",
       "      <td>Schindler's List</td>\n",
       "      <td>the true story of how businessman oskar schind...</td>\n",
       "      <td>[18, 36, 10752]</td>\n",
       "      <td>['Drama', 'History', 'War']</td>\n",
       "    </tr>\n",
       "    <tr>\n",
       "      <th>4</th>\n",
       "      <td>千と千尋の神隠し</td>\n",
       "      <td>a young girl, chihiro, becomes trapped in a st...</td>\n",
       "      <td>[16, 10751, 14]</td>\n",
       "      <td>['Animation', 'Family', 'Fantasy']</td>\n",
       "    </tr>\n",
       "    <tr>\n",
       "      <th>...</th>\n",
       "      <td>...</td>\n",
       "      <td>...</td>\n",
       "      <td>...</td>\n",
       "      <td>...</td>\n",
       "    </tr>\n",
       "    <tr>\n",
       "      <th>9195</th>\n",
       "      <td>The Human Centipede 3 (Final Sequence)</td>\n",
       "      <td>taking inspiration from the human centipede fi...</td>\n",
       "      <td>[27, 35]</td>\n",
       "      <td>['Horror', 'Comedy']</td>\n",
       "    </tr>\n",
       "    <tr>\n",
       "      <th>9196</th>\n",
       "      <td>The Open House</td>\n",
       "      <td>a teenager and his mother find themselves besi...</td>\n",
       "      <td>[27, 53]</td>\n",
       "      <td>['Horror', 'Thriller']</td>\n",
       "    </tr>\n",
       "    <tr>\n",
       "      <th>9197</th>\n",
       "      <td>FearDotCom</td>\n",
       "      <td>when four bodies are discovered among the indu...</td>\n",
       "      <td>[27, 53, 80]</td>\n",
       "      <td>['Horror', 'Thriller', 'Crime']</td>\n",
       "    </tr>\n",
       "    <tr>\n",
       "      <th>9198</th>\n",
       "      <td>Les Dalton</td>\n",
       "      <td>joe and averell are the eldest and youngest of...</td>\n",
       "      <td>[35, 37]</td>\n",
       "      <td>['Comedy', 'Western']</td>\n",
       "    </tr>\n",
       "    <tr>\n",
       "      <th>9199</th>\n",
       "      <td>The Star Wars Holiday Special</td>\n",
       "      <td>luke skywalker and han solo battle evil imperi...</td>\n",
       "      <td>[14, 878, 10751, 10770]</td>\n",
       "      <td>['Fantasy', 'Science Fiction', 'Family', 'TV M...</td>\n",
       "    </tr>\n",
       "  </tbody>\n",
       "</table>\n",
       "<p>9200 rows × 4 columns</p>\n",
       "</div>"
      ],
      "text/plain": [
       "                                        name  \\\n",
       "0                   The Shawshank Redemption   \n",
       "1                              The Godfather   \n",
       "2                      The Godfather Part II   \n",
       "3                           Schindler's List   \n",
       "4                                   千と千尋の神隠し   \n",
       "...                                      ...   \n",
       "9195  The Human Centipede 3 (Final Sequence)   \n",
       "9196                          The Open House   \n",
       "9197                              FearDotCom   \n",
       "9198                              Les Dalton   \n",
       "9199           The Star Wars Holiday Special   \n",
       "\n",
       "                                            description  \\\n",
       "0     framed in the 1940s for the double murder of h...   \n",
       "1     spanning the years 1945 to 1955, a chronicle o...   \n",
       "2     in the continuing saga of the corleone crime f...   \n",
       "3     the true story of how businessman oskar schind...   \n",
       "4     a young girl, chihiro, becomes trapped in a st...   \n",
       "...                                                 ...   \n",
       "9195  taking inspiration from the human centipede fi...   \n",
       "9196  a teenager and his mother find themselves besi...   \n",
       "9197  when four bodies are discovered among the indu...   \n",
       "9198  joe and averell are the eldest and youngest of...   \n",
       "9199  luke skywalker and han solo battle evil imperi...   \n",
       "\n",
       "                         G_id  \\\n",
       "0                    [18, 80]   \n",
       "1                    [18, 80]   \n",
       "2                    [18, 80]   \n",
       "3             [18, 36, 10752]   \n",
       "4             [16, 10751, 14]   \n",
       "...                       ...   \n",
       "9195                 [27, 35]   \n",
       "9196                 [27, 53]   \n",
       "9197             [27, 53, 80]   \n",
       "9198                 [35, 37]   \n",
       "9199  [14, 878, 10751, 10770]   \n",
       "\n",
       "                                                  Genre  \n",
       "0                                    ['Drama', 'Crime']  \n",
       "1                                    ['Drama', 'Crime']  \n",
       "2                                    ['Drama', 'Crime']  \n",
       "3                           ['Drama', 'History', 'War']  \n",
       "4                    ['Animation', 'Family', 'Fantasy']  \n",
       "...                                                 ...  \n",
       "9195                               ['Horror', 'Comedy']  \n",
       "9196                             ['Horror', 'Thriller']  \n",
       "9197                    ['Horror', 'Thriller', 'Crime']  \n",
       "9198                              ['Comedy', 'Western']  \n",
       "9199  ['Fantasy', 'Science Fiction', 'Family', 'TV M...  \n",
       "\n",
       "[9200 rows x 4 columns]"
      ]
     },
     "execution_count": 11,
     "metadata": {},
     "output_type": "execute_result"
    }
   ],
   "source": [
    "data"
   ]
  },
  {
   "cell_type": "code",
   "execution_count": 12,
   "id": "f99c4f68",
   "metadata": {},
   "outputs": [],
   "source": [
    "data['description']=data['description'].apply(scripthtml)"
   ]
  },
  {
   "cell_type": "code",
   "execution_count": 13,
   "id": "be254254",
   "metadata": {},
   "outputs": [
    {
     "data": {
      "text/html": [
       "<div>\n",
       "<style scoped>\n",
       "    .dataframe tbody tr th:only-of-type {\n",
       "        vertical-align: middle;\n",
       "    }\n",
       "\n",
       "    .dataframe tbody tr th {\n",
       "        vertical-align: top;\n",
       "    }\n",
       "\n",
       "    .dataframe thead th {\n",
       "        text-align: right;\n",
       "    }\n",
       "</style>\n",
       "<table border=\"1\" class=\"dataframe\">\n",
       "  <thead>\n",
       "    <tr style=\"text-align: right;\">\n",
       "      <th></th>\n",
       "      <th>name</th>\n",
       "      <th>description</th>\n",
       "      <th>G_id</th>\n",
       "      <th>Genre</th>\n",
       "    </tr>\n",
       "  </thead>\n",
       "  <tbody>\n",
       "    <tr>\n",
       "      <th>0</th>\n",
       "      <td>The Shawshank Redemption</td>\n",
       "      <td>framed in the 1940s for the double murder of h...</td>\n",
       "      <td>[18, 80]</td>\n",
       "      <td>['Drama', 'Crime']</td>\n",
       "    </tr>\n",
       "    <tr>\n",
       "      <th>1</th>\n",
       "      <td>The Godfather</td>\n",
       "      <td>spanning the years 1945 to 1955, a chronicle o...</td>\n",
       "      <td>[18, 80]</td>\n",
       "      <td>['Drama', 'Crime']</td>\n",
       "    </tr>\n",
       "    <tr>\n",
       "      <th>2</th>\n",
       "      <td>The Godfather Part II</td>\n",
       "      <td>in the continuing saga of the corleone crime f...</td>\n",
       "      <td>[18, 80]</td>\n",
       "      <td>['Drama', 'Crime']</td>\n",
       "    </tr>\n",
       "    <tr>\n",
       "      <th>3</th>\n",
       "      <td>Schindler's List</td>\n",
       "      <td>the true story of how businessman oskar schind...</td>\n",
       "      <td>[18, 36, 10752]</td>\n",
       "      <td>['Drama', 'History', 'War']</td>\n",
       "    </tr>\n",
       "    <tr>\n",
       "      <th>4</th>\n",
       "      <td>千と千尋の神隠し</td>\n",
       "      <td>a young girl, chihiro, becomes trapped in a st...</td>\n",
       "      <td>[16, 10751, 14]</td>\n",
       "      <td>['Animation', 'Family', 'Fantasy']</td>\n",
       "    </tr>\n",
       "    <tr>\n",
       "      <th>...</th>\n",
       "      <td>...</td>\n",
       "      <td>...</td>\n",
       "      <td>...</td>\n",
       "      <td>...</td>\n",
       "    </tr>\n",
       "    <tr>\n",
       "      <th>9195</th>\n",
       "      <td>The Human Centipede 3 (Final Sequence)</td>\n",
       "      <td>taking inspiration from the human centipede fi...</td>\n",
       "      <td>[27, 35]</td>\n",
       "      <td>['Horror', 'Comedy']</td>\n",
       "    </tr>\n",
       "    <tr>\n",
       "      <th>9196</th>\n",
       "      <td>The Open House</td>\n",
       "      <td>a teenager and his mother find themselves besi...</td>\n",
       "      <td>[27, 53]</td>\n",
       "      <td>['Horror', 'Thriller']</td>\n",
       "    </tr>\n",
       "    <tr>\n",
       "      <th>9197</th>\n",
       "      <td>FearDotCom</td>\n",
       "      <td>when four bodies are discovered among the indu...</td>\n",
       "      <td>[27, 53, 80]</td>\n",
       "      <td>['Horror', 'Thriller', 'Crime']</td>\n",
       "    </tr>\n",
       "    <tr>\n",
       "      <th>9198</th>\n",
       "      <td>Les Dalton</td>\n",
       "      <td>joe and averell are the eldest and youngest of...</td>\n",
       "      <td>[35, 37]</td>\n",
       "      <td>['Comedy', 'Western']</td>\n",
       "    </tr>\n",
       "    <tr>\n",
       "      <th>9199</th>\n",
       "      <td>The Star Wars Holiday Special</td>\n",
       "      <td>luke skywalker and han solo battle evil imperi...</td>\n",
       "      <td>[14, 878, 10751, 10770]</td>\n",
       "      <td>['Fantasy', 'Science Fiction', 'Family', 'TV M...</td>\n",
       "    </tr>\n",
       "  </tbody>\n",
       "</table>\n",
       "<p>9200 rows × 4 columns</p>\n",
       "</div>"
      ],
      "text/plain": [
       "                                        name  \\\n",
       "0                   The Shawshank Redemption   \n",
       "1                              The Godfather   \n",
       "2                      The Godfather Part II   \n",
       "3                           Schindler's List   \n",
       "4                                   千と千尋の神隠し   \n",
       "...                                      ...   \n",
       "9195  The Human Centipede 3 (Final Sequence)   \n",
       "9196                          The Open House   \n",
       "9197                              FearDotCom   \n",
       "9198                              Les Dalton   \n",
       "9199           The Star Wars Holiday Special   \n",
       "\n",
       "                                            description  \\\n",
       "0     framed in the 1940s for the double murder of h...   \n",
       "1     spanning the years 1945 to 1955, a chronicle o...   \n",
       "2     in the continuing saga of the corleone crime f...   \n",
       "3     the true story of how businessman oskar schind...   \n",
       "4     a young girl, chihiro, becomes trapped in a st...   \n",
       "...                                                 ...   \n",
       "9195  taking inspiration from the human centipede fi...   \n",
       "9196  a teenager and his mother find themselves besi...   \n",
       "9197  when four bodies are discovered among the indu...   \n",
       "9198  joe and averell are the eldest and youngest of...   \n",
       "9199  luke skywalker and han solo battle evil imperi...   \n",
       "\n",
       "                         G_id  \\\n",
       "0                    [18, 80]   \n",
       "1                    [18, 80]   \n",
       "2                    [18, 80]   \n",
       "3             [18, 36, 10752]   \n",
       "4             [16, 10751, 14]   \n",
       "...                       ...   \n",
       "9195                 [27, 35]   \n",
       "9196                 [27, 53]   \n",
       "9197             [27, 53, 80]   \n",
       "9198                 [35, 37]   \n",
       "9199  [14, 878, 10751, 10770]   \n",
       "\n",
       "                                                  Genre  \n",
       "0                                    ['Drama', 'Crime']  \n",
       "1                                    ['Drama', 'Crime']  \n",
       "2                                    ['Drama', 'Crime']  \n",
       "3                           ['Drama', 'History', 'War']  \n",
       "4                    ['Animation', 'Family', 'Fantasy']  \n",
       "...                                                 ...  \n",
       "9195                               ['Horror', 'Comedy']  \n",
       "9196                             ['Horror', 'Thriller']  \n",
       "9197                    ['Horror', 'Thriller', 'Crime']  \n",
       "9198                              ['Comedy', 'Western']  \n",
       "9199  ['Fantasy', 'Science Fiction', 'Family', 'TV M...  \n",
       "\n",
       "[9200 rows x 4 columns]"
      ]
     },
     "execution_count": 13,
     "metadata": {},
     "output_type": "execute_result"
    }
   ],
   "source": [
    "data"
   ]
  },
  {
   "cell_type": "code",
   "execution_count": 14,
   "id": "79d20e39",
   "metadata": {},
   "outputs": [],
   "source": [
    "# removing url"
   ]
  },
  {
   "cell_type": "code",
   "execution_count": 18,
   "id": "1b46ddbc",
   "metadata": {},
   "outputs": [],
   "source": [
    "def removel_url(text):\n",
    "    p=re.compile(r'https?://\\S+|www\\.S+')\n",
    "    return p.sub(r'',text)"
   ]
  },
  {
   "cell_type": "code",
   "execution_count": 19,
   "id": "68d97b1a",
   "metadata": {},
   "outputs": [],
   "source": [
    "data['description']=data['description'].apply(removel_url)"
   ]
  },
  {
   "cell_type": "code",
   "execution_count": 21,
   "id": "df7d45a3",
   "metadata": {},
   "outputs": [
    {
     "data": {
      "text/plain": [
       "0       framed in the 1940s for the double murder of h...\n",
       "1       spanning the years 1945 to 1955, a chronicle o...\n",
       "2       in the continuing saga of the corleone crime f...\n",
       "3       the true story of how businessman oskar schind...\n",
       "4       a young girl, chihiro, becomes trapped in a st...\n",
       "                              ...                        \n",
       "9195    taking inspiration from the human centipede fi...\n",
       "9196    a teenager and his mother find themselves besi...\n",
       "9197    when four bodies are discovered among the indu...\n",
       "9198    joe and averell are the eldest and youngest of...\n",
       "9199    luke skywalker and han solo battle evil imperi...\n",
       "Name: description, Length: 9200, dtype: object"
      ]
     },
     "execution_count": 21,
     "metadata": {},
     "output_type": "execute_result"
    }
   ],
   "source": [
    "data['description']"
   ]
  },
  {
   "cell_type": "code",
   "execution_count": 26,
   "id": "b6d0407f",
   "metadata": {},
   "outputs": [
    {
     "data": {
      "text/plain": [
       "'!\"#$%&\\'()*+,-./:;<=>?@[\\\\]^_`{|}~'"
      ]
     },
     "execution_count": 26,
     "metadata": {},
     "output_type": "execute_result"
    }
   ],
   "source": [
    "#removing punctuation\n",
    "import string,time\n",
    "string.punctuation\n"
   ]
  },
  {
   "cell_type": "code",
   "execution_count": 28,
   "id": "56cc31c7",
   "metadata": {},
   "outputs": [],
   "source": [
    "exclude= string.punctuation"
   ]
  },
  {
   "cell_type": "code",
   "execution_count": 45,
   "id": "ccd909f9",
   "metadata": {},
   "outputs": [],
   "source": [
    "def remove_punc(text):\n",
    "    for char in exclude:\n",
    "        text=text.replace(char,'')\n",
    "    return text    "
   ]
  },
  {
   "cell_type": "code",
   "execution_count": 46,
   "id": "b970d3a5",
   "metadata": {},
   "outputs": [],
   "source": [
    "data['description']=data['description'].apply(remove_punc)"
   ]
  },
  {
   "cell_type": "code",
   "execution_count": 47,
   "id": "cfd103de",
   "metadata": {},
   "outputs": [
    {
     "data": {
      "text/plain": [
       "0       framed in the 1940s for the double murder of h...\n",
       "1       spanning the years 1945 to 1955 a chronicle of...\n",
       "2       in the continuing saga of the corleone crime f...\n",
       "3       the true story of how businessman oskar schind...\n",
       "4       a young girl chihiro becomes trapped in a stra...\n",
       "                              ...                        \n",
       "9195    taking inspiration from the human centipede fi...\n",
       "9196    a teenager and his mother find themselves besi...\n",
       "9197    when four bodies are discovered among the indu...\n",
       "9198    joe and averell are the eldest and youngest of...\n",
       "9199    luke skywalker and han solo battle evil imperi...\n",
       "Name: description, Length: 9200, dtype: object"
      ]
     },
     "execution_count": 47,
     "metadata": {},
     "output_type": "execute_result"
    }
   ],
   "source": [
    "data['description']"
   ]
  },
  {
   "cell_type": "code",
   "execution_count": 48,
   "id": "983f4800",
   "metadata": {},
   "outputs": [],
   "source": [
    "df=\"My name is umair, iam from cs&it department 6th semester datascience student.?\""
   ]
  },
  {
   "cell_type": "code",
   "execution_count": 49,
   "id": "7681b02e",
   "metadata": {},
   "outputs": [
    {
     "data": {
      "text/plain": [
       "'My name is umair iam from csit department 6th semester datascience student'"
      ]
     },
     "execution_count": 49,
     "metadata": {},
     "output_type": "execute_result"
    }
   ],
   "source": [
    "remove_punc(df)"
   ]
  },
  {
   "cell_type": "code",
   "execution_count": null,
   "id": "50c54c2d",
   "metadata": {},
   "outputs": [],
   "source": []
  },
  {
   "cell_type": "code",
   "execution_count": null,
   "id": "27f3aab6",
   "metadata": {},
   "outputs": [],
   "source": [
    "#chat word treatment\n"
   ]
  },
  {
   "cell_type": "code",
   "execution_count": null,
   "id": "63694b3f",
   "metadata": {},
   "outputs": [],
   "source": [
    "#correction spells \n"
   ]
  },
  {
   "cell_type": "code",
   "execution_count": null,
   "id": "5696b6b0",
   "metadata": {},
   "outputs": [],
   "source": [
    "#removing stops words\n"
   ]
  },
  {
   "cell_type": "code",
   "execution_count": null,
   "id": "303589d9",
   "metadata": {},
   "outputs": [],
   "source": [
    "#handling emoji"
   ]
  },
  {
   "cell_type": "code",
   "execution_count": null,
   "id": "babb2797",
   "metadata": {},
   "outputs": [],
   "source": [
    "#stemming"
   ]
  },
  {
   "cell_type": "code",
   "execution_count": null,
   "id": "646e20a5",
   "metadata": {},
   "outputs": [],
   "source": [
    "#stemming"
   ]
  },
  {
   "cell_type": "code",
   "execution_count": null,
   "id": "bb84dbc7",
   "metadata": {},
   "outputs": [],
   "source": []
  }
 ],
 "metadata": {
  "kernelspec": {
   "display_name": "Python 3 (ipykernel)",
   "language": "python",
   "name": "python3"
  },
  "language_info": {
   "codemirror_mode": {
    "name": "ipython",
    "version": 3
   },
   "file_extension": ".py",
   "mimetype": "text/x-python",
   "name": "python",
   "nbconvert_exporter": "python",
   "pygments_lexer": "ipython3",
   "version": "3.9.13"
  }
 },
 "nbformat": 4,
 "nbformat_minor": 5
}
